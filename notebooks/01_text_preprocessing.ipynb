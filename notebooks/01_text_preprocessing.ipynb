{
 "cells": [
  {
   "cell_type": "code",
   "execution_count": 11,
   "id": "4d8dcc24",
   "metadata": {},
   "outputs": [
    {
     "name": "stdout",
     "output_type": "stream",
     "text": [
      "sample comment link\n"
     ]
    }
   ],
   "source": [
    "import spacy\n",
    "nlp = spacy.load(\"en_core_web_sm\")\n",
    "\n",
    "def clean_text_spacy(text):\n",
    "    doc = nlp(text.lower())\n",
    "    tokens = [token.lemma_ for token in doc if not token.is_stop and token.is_alpha]\n",
    "    return \" \".join(tokens)\n",
    "\n",
    "print(clean_text_spacy(\"This is a sample comment with a link: https://youtube.com\"))\n"
   ]
  },
  {
   "cell_type": "code",
   "execution_count": 12,
   "id": "09f2b538",
   "metadata": {},
   "outputs": [
    {
     "name": "stdout",
     "output_type": "stream",
     "text": [
      "✅ Done! Cleaned comments saved to ../data/cleaned_comments.csv\n"
     ]
    }
   ],
   "source": [
    "# 📦 Imports\n",
    "import pandas as pd\n",
    "import spacy\n",
    "import emoji\n",
    "import re\n",
    "from pathlib import Path\n",
    "\n",
    "# 🧠 Load spaCy English model\n",
    "nlp = spacy.load(\"en_core_web_sm\")\n",
    "\n",
    "# 📂 Load comments\n",
    "data_path = Path(\"../data/comments.csv\")\n",
    "df = pd.read_csv(data_path)\n",
    "df.dropna(subset=[\"comment\"], inplace=True)\n",
    "\n",
    "# 🧹 Clean function using spaCy only\n",
    "def clean_text_spacy(text):\n",
    "    # Remove emojis\n",
    "    text = emoji.replace_emoji(text, replace='')\n",
    "    \n",
    "    # Remove URLs\n",
    "    text = re.sub(r\"http\\S+|www\\S+|https\\S+\", '', text)\n",
    "    \n",
    "    # Keep only alphabet and whitespace\n",
    "    text = re.sub(r\"[^a-zA-Z\\s]\", '', text)\n",
    "    \n",
    "    # Lowercase\n",
    "    text = text.lower()\n",
    "    \n",
    "    # spaCy processing\n",
    "    doc = nlp(text)\n",
    "    \n",
    "    # Remove stopwords and lemmatize\n",
    "    tokens = [token.lemma_ for token in doc if token.is_alpha and not token.is_stop]\n",
    "    \n",
    "    return \" \".join(tokens)\n",
    "\n",
    "# 🌀 Apply cleaning to all comments\n",
    "df[\"cleaned_comment\"] = df[\"comment\"].apply(clean_text_spacy)\n",
    "\n",
    "# 💾 Save to new CSV\n",
    "output_path = Path(\"../data/cleaned_comments.csv\")\n",
    "df.to_csv(output_path, index=False)\n",
    "\n",
    "print(f\"✅ Done! Cleaned comments saved to {output_path}\")\n"
   ]
  }
 ],
 "metadata": {
  "language_info": {
   "name": "python"
  }
 },
 "nbformat": 4,
 "nbformat_minor": 5
}
