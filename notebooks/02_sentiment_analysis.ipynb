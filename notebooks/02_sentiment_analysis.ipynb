{
 "cells": [
  {
   "cell_type": "code",
   "execution_count": 2,
   "id": "a3b37238",
   "metadata": {},
   "outputs": [
    {
     "name": "stdout",
     "output_type": "stream",
     "text": [
      "✅ Sentiment analysis complete and saved to comments_with_sentiment.csv\n"
     ]
    },
    {
     "name": "stderr",
     "output_type": "stream",
     "text": [
      "[nltk_data] Downloading package vader_lexicon to\n",
      "[nltk_data]     /home/codespace/nltk_data...\n",
      "[nltk_data]   Package vader_lexicon is already up-to-date!\n"
     ]
    }
   ],
   "source": [
    "# 🔧 Setup\n",
    "import pandas as pd\n",
    "import nltk\n",
    "from nltk.sentiment import SentimentIntensityAnalyzer\n",
    "from pathlib import Path\n",
    "\n",
    "nltk.download('vader_lexicon')\n",
    "\n",
    "# 📥 Load cleaned data\n",
    "df = pd.read_csv(Path(\"../data/cleaned_comments.csv\"))\n",
    "\n",
    "# 🧹 Handle NaN or invalid comments\n",
    "df[\"cleaned_comment\"] = df[\"cleaned_comment\"].fillna(\"\")  # Fill NaN with empty string\n",
    "\n",
    "# 🧠 Initialize VADER\n",
    "sia = SentimentIntensityAnalyzer()\n",
    "\n",
    "# 🌀 Apply VADER\n",
    "df[\"sentiment_score\"] = df[\"cleaned_comment\"].apply(lambda x: sia.polarity_scores(str(x))[\"compound\"])\n",
    "\n",
    "# 🟢 Classify sentiment based on score\n",
    "def classify_sentiment(score):\n",
    "    if score >= 0.05:\n",
    "        return \"Positive\"\n",
    "    elif score <= -0.05:\n",
    "        return \"Negative\"\n",
    "    else:\n",
    "        return \"Neutral\"\n",
    "\n",
    "df[\"sentiment_label\"] = df[\"sentiment_score\"].apply(classify_sentiment)\n",
    "\n",
    "# 💾 Save with sentiments\n",
    "df.to_csv(Path(\"../data/comments_with_sentiment.csv\"), index=False)\n",
    "\n",
    "print(\"✅ Sentiment analysis complete and saved to comments_with_sentiment.csv\")\n"
   ]
  }
 ],
 "metadata": {
  "kernelspec": {
   "display_name": "Python 3",
   "language": "python",
   "name": "python3"
  },
  "language_info": {
   "codemirror_mode": {
    "name": "ipython",
    "version": 3
   },
   "file_extension": ".py",
   "mimetype": "text/x-python",
   "name": "python",
   "nbconvert_exporter": "python",
   "pygments_lexer": "ipython3",
   "version": "3.12.1"
  }
 },
 "nbformat": 4,
 "nbformat_minor": 5
}
